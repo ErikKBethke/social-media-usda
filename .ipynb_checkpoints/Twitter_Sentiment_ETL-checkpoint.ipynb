{
 "cells": [
  {
   "cell_type": "markdown",
   "metadata": {},
   "source": [
    "# USDA Twitter Sentiment Analysis"
   ]
  },
  {
   "cell_type": "markdown",
   "metadata": {},
   "source": [
    "Performs sentiment analysis on Twitter data mentions of various USDA accounts\n",
    "\n",
    "Author: Erik Bethke\n",
    "Last modified: 6.14.18"
   ]
  },
  {
   "cell_type": "markdown",
   "metadata": {},
   "source": [
    "## Installation of nltk and data"
   ]
  },
  {
   "cell_type": "markdown",
   "metadata": {},
   "source": [
    "pip3 install nltk==3.2.4"
   ]
  },
  {
   "cell_type": "markdown",
   "metadata": {},
   "source": [
    "sudo python3 -m nltk.downloader all"
   ]
  },
  {
   "cell_type": "markdown",
   "metadata": {},
   "source": [
    "Importing modules and basic functions"
   ]
  },
  {
   "cell_type": "code",
   "execution_count": 282,
   "metadata": {
    "scrolled": true
   },
   "outputs": [],
   "source": [
    "# Import modules for analysis\n",
    "import nltk\n",
    "import pandas as pd\n",
    "import numpy as np\n",
    "import glob\n",
    "import sys\n",
    "import string\n",
    "import datetime\n",
    "import shutil\n",
    "from pathlib import Path\n",
    "from nltk.classify import NaiveBayesClassifier\n",
    "from nltk.classify.util import accuracy\n",
    "from nltk.tokenize import TweetTokenizer\n",
    "\n",
    "now = datetime.datetime.now()\n",
    "dmy =  str(now.month) + \"_\" + str(now.day) + \"_\" + str(now.year)\n",
    "\n",
    "def format_sentence(sent):\n",
    "    return({word: True for word in nltk.word_tokenize(sent)})"
   ]
  },
  {
   "cell_type": "markdown",
   "metadata": {},
   "source": [
    "## Setting up training model"
   ]
  },
  {
   "cell_type": "markdown",
   "metadata": {},
   "source": [
    "### Import positive tweet training data"
   ]
  },
  {
   "cell_type": "code",
   "execution_count": 5,
   "metadata": {
    "scrolled": true
   },
   "outputs": [],
   "source": [
    "pos = []\n",
    "with open(\"./pos_tweets.txt\") as f:\n",
    "    for i in f:\n",
    "        pos.append([format_sentence(i), 'pos'])"
   ]
  },
  {
   "cell_type": "markdown",
   "metadata": {},
   "source": [
    "### Import negative tweet training data"
   ]
  },
  {
   "cell_type": "code",
   "execution_count": 6,
   "metadata": {
    "scrolled": true
   },
   "outputs": [],
   "source": [
    "#Establish negative tweet trainig dat\n",
    "neg = []\n",
    "with open(\"./neg_tweets.txt\", encoding='utf-8') as f:\n",
    "    for i in f:\n",
    "        neg.append([format_sentence(i), 'neg'])"
   ]
  },
  {
   "cell_type": "markdown",
   "metadata": {},
   "source": [
    "Split labeled training data into the training and test data (80/20 split)"
   ]
  },
  {
   "cell_type": "code",
   "execution_count": 7,
   "metadata": {
    "scrolled": true
   },
   "outputs": [
    {
     "name": "stdout",
     "output_type": "stream",
     "text": [
      "Building training data...\n"
     ]
    }
   ],
   "source": [
    "training = pos[:int((.8)*len(pos))] + neg[:int((.8)*len(neg))]\n",
    "test = pos[int((.8)*len(pos)):] + neg[int((.8)*len(neg)):]\n",
    "print(\"Building training data...\")"
   ]
  },
  {
   "cell_type": "markdown",
   "metadata": {},
   "source": [
    "### Build classifier"
   ]
  },
  {
   "cell_type": "code",
   "execution_count": 8,
   "metadata": {
    "scrolled": true
   },
   "outputs": [
    {
     "name": "stdout",
     "output_type": "stream",
     "text": [
      "Building classifier...\n"
     ]
    }
   ],
   "source": [
    "classifier = NaiveBayesClassifier.train(training)\n",
    "print(\"Building classifier...\")"
   ]
  },
  {
   "cell_type": "markdown",
   "metadata": {},
   "source": [
    "Simple display of informative features from the training data (just for understanding)"
   ]
  },
  {
   "cell_type": "code",
   "execution_count": 9,
   "metadata": {
    "scrolled": true
   },
   "outputs": [],
   "source": [
    "#classifier.show_most_informative_features()"
   ]
  },
  {
   "cell_type": "markdown",
   "metadata": {},
   "source": [
    "### Test training data against a text string"
   ]
  },
  {
   "cell_type": "markdown",
   "metadata": {},
   "source": [
    "Simply for showing it works"
   ]
  },
  {
   "cell_type": "code",
   "execution_count": 10,
   "metadata": {
    "scrolled": true
   },
   "outputs": [],
   "source": [
    "#example_pos = (\"What a great date\")\n",
    "#example_neg = (\"Don't trust anyone!\")\n",
    "\n",
    "#print('This example is positive and results in: ' + classifier.classify(format_sentence(example_pos)))\n",
    "#print('This example is negative and results in: ' + classifier.classify(format_sentence(example_neg)))"
   ]
  },
  {
   "cell_type": "markdown",
   "metadata": {},
   "source": [
    "See the accuracy of our test data"
   ]
  },
  {
   "cell_type": "code",
   "execution_count": 11,
   "metadata": {
    "scrolled": true
   },
   "outputs": [],
   "source": [
    "#print(accuracy(classifier, test))"
   ]
  },
  {
   "cell_type": "markdown",
   "metadata": {},
   "source": [
    "## USDA Twitter Data"
   ]
  },
  {
   "cell_type": "markdown",
   "metadata": {},
   "source": [
    "### Import USDA Twitter Data"
   ]
  },
  {
   "cell_type": "markdown",
   "metadata": {},
   "source": [
    "Opening in pandas dataframe"
   ]
  },
  {
   "cell_type": "code",
   "execution_count": 270,
   "metadata": {
    "scrolled": true
   },
   "outputs": [
    {
     "name": "stdout",
     "output_type": "stream",
     "text": [
      "Importing Twitter Data...\n",
      "Preparing ./Twitter_Full_test.csv...\n"
     ]
    }
   ],
   "source": [
    "print(\"Importing Twitter Data...\")\n",
    "csv = glob.glob('*Twitter_Full*')\n",
    "csv = './' + csv[0]\n",
    "print(\"Preparing \" + csv + \"...\")\n",
    "df = pd.read_csv(csv, sep='|', error_bad_lines=False, warn_bad_lines=True, encoding='latin-1')\n",
    "\n",
    "#df = pd.read_csv('./Twitter_Full_18062018_parsed.csv')\n",
    "#df = pd.read_excel('./Twitter_Final_18062018.xlsx', 'Sheet1')"
   ]
  },
  {
   "cell_type": "markdown",
   "metadata": {},
   "source": [
    "Creating a data frame to hold the file name and date, to check against existing data in master list (and later for export)"
   ]
  },
  {
   "cell_type": "code",
   "execution_count": 345,
   "metadata": {},
   "outputs": [],
   "source": [
    "df_fileList = pd.DataFrame(columns = ['FileName', 'Date'])\n",
    "df_fileList.loc[(len(df_fileList))] = [csv, dmy]"
   ]
  },
  {
   "cell_type": "markdown",
   "metadata": {},
   "source": [
    "Checking for Twitter Master, then checking if analysis has already been completed"
   ]
  },
  {
   "cell_type": "code",
   "execution_count": 363,
   "metadata": {},
   "outputs": [
    {
     "name": "stdout",
     "output_type": "stream",
     "text": [
      "No duplicate detected. Continuing...\n"
     ]
    }
   ],
   "source": [
    "master = Path('./Twitter_Master.xlsx')\n",
    "if master.is_file():\n",
    "    print('Comparing file to list of completed sentiment analyses for duplicates...')\n",
    "    # Read master file list, append df_fileList to master list\n",
    "    df_master_fileList = pd.read_excel(master, 'Sheet2', index=False)\n",
    "    if (df_master_fileList['FileName'].str.contains(csv).sum() > 0 and df_master_fileList['Date'].str.contains(dmy).sum()):\n",
    "        print('Sentiment analysis already completed on this file. Exiting...')\n",
    "        print('Please remove duplicate file from root directory.')\n",
    "        sys.exit()\n",
    "    else:\n",
    "        print('No duplicate detected. Continuing...')\n",
    "else:\n",
    "    print('No duplicate detected. Continuing...')"
   ]
  },
  {
   "cell_type": "markdown",
   "metadata": {},
   "source": [
    "Run classifier on tweet texts, check for errors"
   ]
  },
  {
   "cell_type": "code",
   "execution_count": 255,
   "metadata": {
    "scrolled": true
   },
   "outputs": [],
   "source": [
    "#classifier.classify(df['nltk'])\n",
    "tweetSentiment = []\n",
    "for tweet in df['tweetText']:\n",
    "    try:\n",
    "        tweetSentiment.append(classifier.classify(format_sentence(tweet)))\n",
    "    except:\n",
    "        tweetSentiment.append('error')       "
   ]
  },
  {
   "cell_type": "markdown",
   "metadata": {},
   "source": [
    "Push tweetSentiment to dataframe"
   ]
  },
  {
   "cell_type": "code",
   "execution_count": 256,
   "metadata": {
    "scrolled": true
   },
   "outputs": [],
   "source": [
    "df['tweetSentiment'] = tweetSentiment\n",
    "df = df.fillna('')"
   ]
  },
  {
   "cell_type": "markdown",
   "metadata": {},
   "source": [
    "### Import stopwords data and push to data frame"
   ]
  },
  {
   "cell_type": "code",
   "execution_count": 257,
   "metadata": {},
   "outputs": [
    {
     "name": "stdout",
     "output_type": "stream",
     "text": [
      "Importing stopwords...\n"
     ]
    }
   ],
   "source": [
    "print('Importing stopwords...')\n",
    "df_stop = pd.read_excel('./stopwords.xlsx', header=None, names=['stop'])"
   ]
  },
  {
   "cell_type": "markdown",
   "metadata": {},
   "source": [
    "Push to list"
   ]
  },
  {
   "cell_type": "code",
   "execution_count": 258,
   "metadata": {},
   "outputs": [],
   "source": [
    "stopList = df_stop['stop'].values.tolist()"
   ]
  },
  {
   "cell_type": "markdown",
   "metadata": {},
   "source": [
    "### Split tweet text, create new dataframe for each word in each tweet with associated sentiment"
   ]
  },
  {
   "cell_type": "markdown",
   "metadata": {},
   "source": [
    "Prepare new dataframe df_word for words"
   ]
  },
  {
   "cell_type": "code",
   "execution_count": 259,
   "metadata": {
    "scrolled": true
   },
   "outputs": [],
   "source": [
    "# New dataframe for individual words\n",
    "df_word_cols = list(df.columns)\n",
    "df_word_cols.append('tweetWord')\n",
    "\n",
    "df_word = pd.DataFrame(columns = df_word_cols)\n",
    "\n",
    "# Split words into list format, set up dataframe locators\n",
    "wordList = df['tweetText'].str.split(' ')"
   ]
  },
  {
   "cell_type": "markdown",
   "metadata": {},
   "source": [
    "Populate dataframe df_word"
   ]
  },
  {
   "cell_type": "code",
   "execution_count": 260,
   "metadata": {
    "scrolled": true
   },
   "outputs": [
    {
     "name": "stdout",
     "output_type": "stream",
     "text": [
      "Generating parsed word file...\n"
     ]
    }
   ],
   "source": [
    "df_word_vals = []\n",
    "df_loc = 0\n",
    "word_loc = 0\n",
    "lowerExcept = ['US', 'U.S.']\n",
    "\n",
    "# Build translator using string module to remove punctuation from words (excluding @ or #)\n",
    "translatorWords = string.punctuation\n",
    "translatorBuild = str.maketrans('', '', '@#')\n",
    "translatorWords = translatorWords.translate(translatorBuild)\n",
    "translator = str.maketrans('', '', translatorWords)\n",
    "\n",
    "print(\"Generating parsed word file...\")\n",
    "\n",
    "# Parse through all word lists, then parse through all words to populate df_word\n",
    "for words in wordList:\n",
    "    for word in words:\n",
    "        # Drop punctuation from word, ignoring # or @\n",
    "        # Then convert to lower case if not in list of exceptions\n",
    "        if word in lowerExcept:\n",
    "            wordDrop = word.translate(translator)\n",
    "        else:\n",
    "            wordDrop = word.translate(translator).lower()\n",
    "        \n",
    "        # Check word against stop list\n",
    "        if wordDrop in stopList:\n",
    "            pass\n",
    "        #something broken here\n",
    "        elif wordDrop not in stopList:\n",
    "            # something going wrong in this section\n",
    "            df_append = df.iloc[df_loc]\n",
    "            df_word = df_word.append(df_append, ignore_index=True)\n",
    "            try:\n",
    "                df_word.at[word_loc, 'tweetWord'] = wordDrop\n",
    "            except:\n",
    "                df_word = df_word.replace(np.nan, '', regex=True)\n",
    "                df_word.at[word_loc, 'tweetWord'] = wordDrop\n",
    "            word_loc += 1\n",
    "    df_loc += 1"
   ]
  },
  {
   "cell_type": "markdown",
   "metadata": {},
   "source": [
    "Combine all columns into 1 for improved filesize"
   ]
  },
  {
   "cell_type": "code",
   "execution_count": 261,
   "metadata": {},
   "outputs": [],
   "source": [
    "df_word_out = df_word[['tweetId', 'tweetDate', 'tweetWord', 'tweetSentiment']].copy()"
   ]
  },
  {
   "cell_type": "markdown",
   "metadata": {},
   "source": [
    "Outputting to CSV, archives Full_Data, Sentence Sentiment, and Word Sentiment appropriately"
   ]
  },
  {
   "cell_type": "code",
   "execution_count": 279,
   "metadata": {
    "scrolled": false
   },
   "outputs": [
    {
     "name": "stdout",
     "output_type": "stream",
     "text": [
      "Writing output files...\n"
     ]
    },
    {
     "data": {
      "text/plain": [
       "'./archive/Full_Data/Twitter_Full_test.csv'"
      ]
     },
     "execution_count": 279,
     "metadata": {},
     "output_type": "execute_result"
    }
   ],
   "source": [
    "print(\"Writing output files...\")\n",
    "df.to_csv('./archive/Sentence_Sentiment/Twitter_PythonSentiment_' + dmy + '.csv', encoding='utf-8', index=False)\n",
    "df_word_out.to_csv('./archive/Word_Sentiment/Twitter_PythonSentiment_Word_' + dmy + '.csv', encoding='utf-8', index=False)\n",
    "shutil.move(csv, './archive/Full_Data/')"
   ]
  },
  {
   "cell_type": "markdown",
   "metadata": {},
   "source": [
    "### Exporting to Master Data"
   ]
  },
  {
   "cell_type": "markdown",
   "metadata": {},
   "source": [
    "Check for Twitter_Master Excel, then write to appropriate locations"
   ]
  },
  {
   "cell_type": "code",
   "execution_count": 344,
   "metadata": {},
   "outputs": [],
   "source": [
    "master = Path('./Twitter_Master.xlsx')\n",
    "if master.is_file():\n",
    "    # Read master data, append df_word_out to master list\n",
    "    df_master = pd.read_excel(master, 'Sheet1', index=False)\n",
    "    df_master = df_master.append(df_word_out, ignore_index=True)\n",
    "    \n",
    "    # Read master file list, append df_fileList to master list\n",
    "    df_master_fileList = pd.read_excel(master, 'Sheet2', index=False)\n",
    "    df_master_fileList = df_master_fileList.append(df_fileList)\n",
    "    \n",
    "    writer = pd.ExcelWriter('./Twitter_Master.xlsx')\n",
    "    df_master.to_excel(writer,'Sheet1', index=False)\n",
    "    df_master_fileList.to_excel(writer,'Sheet2', index=False)\n",
    "    writer.save()\n",
    "else:\n",
    "    writer = pd.ExcelWriter('./Twitter_Master.xlsx')\n",
    "    df_word_out.to_excel(writer,'Sheet1', index=False)\n",
    "    df_fileList.to_excel(writer,'Sheet2', index=False)\n",
    "    writer.save()\n",
    "    \n",
    "print('Job completed')"
   ]
  }
 ],
 "metadata": {
  "kernelspec": {
   "display_name": "Python 3",
   "language": "python",
   "name": "python3"
  },
  "language_info": {
   "codemirror_mode": {
    "name": "ipython",
    "version": 3
   },
   "file_extension": ".py",
   "mimetype": "text/x-python",
   "name": "python",
   "nbconvert_exporter": "python",
   "pygments_lexer": "ipython3",
   "version": "3.6.4"
  }
 },
 "nbformat": 4,
 "nbformat_minor": 2
}
